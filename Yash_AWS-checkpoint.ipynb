{
 "cells": [
  {
   "cell_type": "code",
   "execution_count": 8,
   "metadata": {},
   "outputs": [
    {
     "name": "stdout",
     "output_type": "stream",
     "text": [
      "*******model load successfully*******\n",
      "*******Camera on*******\n"
     ]
    },
    {
     "ename": "TypeError",
     "evalue": "only integer scalar arrays can be converted to a scalar index",
     "output_type": "error",
     "traceback": [
      "\u001b[1;31m---------------------------------------------------------------------------\u001b[0m",
      "\u001b[1;31mTypeError\u001b[0m                                 Traceback (most recent call last)",
      "\u001b[1;32m<ipython-input-8-e77e79cca070>\u001b[0m in \u001b[0;36m<module>\u001b[1;34m\u001b[0m\n\u001b[0;32m     20\u001b[0m             \u001b[1;31m#grey_image_with_box=cv2.rectangle(grey_image,(x,y),(x+w,y+h),(0,255,0),2)\u001b[0m\u001b[1;33m\u001b[0m\u001b[1;33m\u001b[0m\u001b[1;33m\u001b[0m\u001b[0m\n\u001b[0;32m     21\u001b[0m             \u001b[0mimage_with_box\u001b[0m\u001b[1;33m=\u001b[0m\u001b[0mcv2\u001b[0m\u001b[1;33m.\u001b[0m\u001b[0mrectangle\u001b[0m\u001b[1;33m(\u001b[0m\u001b[0mimage\u001b[0m\u001b[1;33m,\u001b[0m\u001b[1;33m(\u001b[0m\u001b[0mx\u001b[0m\u001b[1;33m,\u001b[0m\u001b[0my\u001b[0m\u001b[1;33m)\u001b[0m\u001b[1;33m,\u001b[0m\u001b[1;33m(\u001b[0m\u001b[0mx\u001b[0m\u001b[1;33m+\u001b[0m\u001b[0mw\u001b[0m\u001b[1;33m,\u001b[0m\u001b[0my\u001b[0m\u001b[1;33m+\u001b[0m\u001b[0mh\u001b[0m\u001b[1;33m)\u001b[0m\u001b[1;33m,\u001b[0m\u001b[1;33m(\u001b[0m\u001b[1;36m0\u001b[0m\u001b[1;33m,\u001b[0m\u001b[1;36m0\u001b[0m\u001b[1;33m,\u001b[0m\u001b[1;36m0\u001b[0m\u001b[1;33m)\u001b[0m\u001b[1;33m,\u001b[0m\u001b[1;36m2\u001b[0m\u001b[1;33m)\u001b[0m\u001b[1;33m\u001b[0m\u001b[1;33m\u001b[0m\u001b[0m\n\u001b[1;32m---> 22\u001b[1;33m         \u001b[0mimage_with_box_resize\u001b[0m\u001b[1;33m=\u001b[0m\u001b[0mcv2\u001b[0m\u001b[1;33m.\u001b[0m\u001b[0mresize\u001b[0m\u001b[1;33m(\u001b[0m\u001b[0mimage_with_box\u001b[0m\u001b[1;33m[\u001b[0m\u001b[0mx\u001b[0m\u001b[1;33m:\u001b[0m\u001b[0mx\u001b[0m\u001b[1;33m+\u001b[0m\u001b[0mh\u001b[0m\u001b[1;33m,\u001b[0m\u001b[0my\u001b[0m\u001b[1;33m:\u001b[0m\u001b[0my\u001b[0m\u001b[1;33m+\u001b[0m\u001b[0mw\u001b[0m\u001b[1;33m]\u001b[0m\u001b[1;33m,\u001b[0m\u001b[1;33m(\u001b[0m\u001b[1;36m150\u001b[0m\u001b[1;33m,\u001b[0m\u001b[1;36m150\u001b[0m\u001b[1;33m)\u001b[0m\u001b[1;33m)\u001b[0m\u001b[1;33m\u001b[0m\u001b[1;33m\u001b[0m\u001b[0m\n\u001b[0m\u001b[0;32m     23\u001b[0m         \u001b[1;31m#cv2.imshow('me',grey_image_with_box[x:x+h,y:y+w])\u001b[0m\u001b[1;33m\u001b[0m\u001b[1;33m\u001b[0m\u001b[1;33m\u001b[0m\u001b[0m\n\u001b[0;32m     24\u001b[0m         \u001b[1;31m##cv2.imshow('me',image_with_box[x:x+h,y:y+w])\u001b[0m\u001b[1;33m\u001b[0m\u001b[1;33m\u001b[0m\u001b[1;33m\u001b[0m\u001b[0m\n",
      "\u001b[1;31mTypeError\u001b[0m: only integer scalar arrays can be converted to a scalar index"
     ]
    }
   ],
   "source": [
    "#testing.......\n",
    "from keras.models import load_model\n",
    "m=load_model(\"face_detection.h5\")\n",
    "import cv2\n",
    "import numpy\n",
    "import time\n",
    "print(\"*******model load successfully*******\")\n",
    "cap=cv2.VideoCapture(0)\n",
    "print(\"*******Camera on*******\")\n",
    "cascPath=\"haarcascade_frontalface_default.xml\"\n",
    "faceCascade=cv2.CascadeClassifier(cascPath)\n",
    "#print(\"loop start\")\n",
    "while True:\n",
    "    #try:\n",
    "        ret, image=cap.read()\n",
    "        #print(\"image read\")\n",
    "        faces=faceCascade.detectMultiScale(image)\n",
    "        #print(\"for loop start\")\n",
    "        for (x,y,w,h) in faces:\n",
    "            #grey_image_with_box=cv2.rectangle(grey_image,(x,y),(x+w,y+h),(0,255,0),2)\n",
    "            image_with_box=cv2.rectangle(image,(x,y),(x+w,y+h),(0,0,0),2)\n",
    "        image_with_box_resize=cv2.resize(image_with_box[x:x+h,y:y+w],(150,150))\n",
    "        #cv2.imshow('me',grey_image_with_box[x:x+h,y:y+w])\n",
    "        ##cv2.imshow('me',image_with_box[x:x+h,y:y+w])\n",
    "        \n",
    "        \n",
    "        z=numpy.expand_dims(image_with_box_resize,axis=0)\n",
    "        x=m.predict(z)\n",
    "        #print(x)\n",
    "        #cv2.putText(face, str(count), (50, 50),cv2.FONT_HERSHEY_COMPLEX, 1, (0,255,0), 2)\n",
    "        if(x>0.8):\n",
    "            cv2.putText(image_with_box,\"Hey, Yash\",(70,70),cv2.FONT_HERSHEY_COMPLEX, 1, (255,0,0), 2)\n",
    "            #print(\"yash photo\")\n",
    "            print(\"*******AWS WORKING START*******\")\n",
    "            aws()\n",
    "            print(\"*******AWS TASK DONE********\")\n",
    "            mail()\n",
    "            print(\"********MAIL SEND SUCCESSFULLY********\")\n",
    "            \n",
    "        else:\n",
    "            cv2.putText(image_with_box, \"Hey, azeem\",(70,70),cv2.FONT_HERSHEY_COMPLEX, 1, (255,0,0), 2)\n",
    "            #print(\"in azeem\")\n",
    "            #break\n",
    "        cv2.imshow('me',image_with_box)\n",
    "        #time.sleep(10)\n",
    "        #cv2.waitKey(10)\n",
    "        if cv2.waitKey(50000)==13 :\n",
    "            break\n",
    "        break\n",
    "            \n",
    "    #except:\n",
    "        #pass\n",
    "    \n",
    "#print(\"Alomst end\")\n",
    "cv2.destroyAllWindows()\n",
    "cap.release()\n",
    "print(\"*******TASK COMPLETED*******\")"
   ]
  },
  {
   "cell_type": "code",
   "execution_count": 9,
   "metadata": {},
   "outputs": [],
   "source": [
    "cv2.destroyAllWindows()\n",
    "cap.release()"
   ]
  },
  {
   "cell_type": "code",
   "execution_count": 5,
   "metadata": {},
   "outputs": [],
   "source": [
    "def aws():\n",
    "    import json\n",
    "    import subprocess\n",
    "    import os\n",
    "    import time\n",
    "\n",
    "    name=input(\"Enter the name of Instance: \")\n",
    "    key=\"aws_os1_key\"\n",
    "\n",
    "    ami= \"ami-0ad704c126371a549\"\n",
    "    sg = \"sg-1fcc1178\"\n",
    "    sub_id=\"subnet-2271784a\"\n",
    "\n",
    "    instance=\"aws ec2 run-instances --image-id \" + ami + \" --subnet-id \" + sub_id + \" --instance-type t2.micro --count 1 --tag-specification ResourceType=instance,Tags=[{Key=Name,Value=\"+name+\"}] --security-group-ids \"+ sg +\" --key-name \"+key\n",
    "    subprocess.getoutput(instance)\n",
    "\n",
    "    o=subprocess.getoutput(\"aws ec2 describe-instances\")\n",
    "    o1=json.loads(o)\n",
    "    def ins_id_finder(o1):\n",
    "        i=0\n",
    "        while o1['Reservations']:\n",
    "            #try:\n",
    "                if o1['Reservations'][i]['Instances'][0]['Tags'][0]['Value']==name:\n",
    "                    ins_id=o1['Reservations'][i]['Instances'][0]['InstanceId']\n",
    "                    print(ins_id)\n",
    "                    return ins_id\n",
    "                    break\n",
    "                else:\n",
    "                    i=i+1\n",
    "                \n",
    "            #except:\n",
    "                #break\n",
    "        \n",
    "\n",
    "    volume=subprocess.getoutput(\"aws ec2 create-volume --availability-zone ap-south-1a --size 1 --tag-specifications ResourceType=volume,Tags=[{Key=Name,Value=\"+name+\"-volume}]\")\n",
    "    vol_id=json.loads(volume)['VolumeId']\n",
    "    ins_id=ins_id_finder(o1)\n",
    "    print(ins_id)\n",
    "    time.sleep(30)\n",
    "    attach_volume=\"aws ec2 attach-volume --instance-id \"+ins_id+\" --volume-id \"+vol_id+\" --device /dev/xvdg\"\n",
    "    o2=subprocess.getoutput(attach_volume)\n",
    "    print(o2)"
   ]
  },
  {
   "cell_type": "code",
   "execution_count": 6,
   "metadata": {},
   "outputs": [],
   "source": [
    "def mail():\n",
    "    #from ipynb.fs.full.email_credential_code import *\n",
    "    from email.message import EmailMessage\n",
    "    import smtplib\n",
    "    msg=EmailMessage()\n",
    "    msg['Subject']='work update!!'\n",
    "    msg['From']=email_credentials1()[0]\n",
    "    msg['to']='azeem.bly001@gmail.com'\n",
    "    msg.set_content('Task Completed...')\n",
    "    with smtplib.SMTP_SSL('smtp.gmail.com',465) as smtp:\n",
    "        credential=email_credentials1()\n",
    "        smtp.login(credential[0],credential[1])\n",
    "        smtp.send_message(msg)"
   ]
  },
  {
   "cell_type": "code",
   "execution_count": 7,
   "metadata": {},
   "outputs": [],
   "source": [
    "def email_credentials1():\n",
    "    email_id='yashchaudhari2603@gmail.com'\n",
    "    passwd='8237462463'\n",
    "    return(email_id,passwd)"
   ]
  },
  {
   "cell_type": "code",
   "execution_count": null,
   "metadata": {},
   "outputs": [],
   "source": []
  }
 ],
 "metadata": {
  "kernelspec": {
   "display_name": "Python 3",
   "language": "python",
   "name": "python3"
  },
  "language_info": {
   "codemirror_mode": {
    "name": "ipython",
    "version": 3
   },
   "file_extension": ".py",
   "mimetype": "text/x-python",
   "name": "python",
   "nbconvert_exporter": "python",
   "pygments_lexer": "ipython3",
   "version": "3.8.3"
  }
 },
 "nbformat": 4,
 "nbformat_minor": 4
}
